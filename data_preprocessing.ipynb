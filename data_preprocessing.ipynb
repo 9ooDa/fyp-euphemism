{
 "cells": [
  {
   "cell_type": "code",
   "execution_count": null,
   "metadata": {},
   "outputs": [],
   "source": [
    "# tokenization\n",
    "# lower characters\n",
    "# remove punctuations\n",
    "# only the ones inside the double-quotation mark\n"
   ]
  },
  {
   "cell_type": "code",
   "execution_count": 4,
   "metadata": {},
   "outputs": [],
   "source": [
    "import csv\n",
    "import re\n",
    "from collections import Counter"
   ]
  },
  {
   "cell_type": "code",
   "execution_count": 5,
   "metadata": {},
   "outputs": [],
   "source": [
    "def tokenize_str(string):\n",
    "    string = re.sub(r\"[^A-Za-z0-9()#@$,!?\\'\\`]\", \" \", string)\n",
    "    string = re.sub(r\"\\'s\", \" \\'s\", string)\n",
    "    string = re.sub(r\"\\'ve\", \" \\'ve\", string)\n",
    "    string = re.sub(r\"n\\'t\", \" n\\'t\", string)\n",
    "    string = re.sub(r\"\\'re\", \" \\'re\", string)\n",
    "    string = re.sub(r\"\\'d\", \" \\'d\", string)\n",
    "    string = re.sub(r\"\\'ll\", \" \\'ll\", string)\n",
    "    string = re.sub(r\",\", \" , \", string)\n",
    "    string = re.sub(r\"!\", \" ! \", string)\n",
    "    string = re.sub(r\"\\(\", \" \\( \", string)\n",
    "    string = re.sub(r\"\\)\", \" \\) \", string)\n",
    "    string = re.sub(r\"\\?\", \" \\? \", string)\n",
    "    string = re.sub(r\"\\s{2,}\", \" \", string)\n",
    "    return string.strip().lower()\n",
    "\n",
    "\n",
    "def proc_reddit_corpus(fn=\"data/reddit.csv\", save_fn=\"reddit_corpus.txt\"):\n",
    "    fout = open(save_fn, \"w\")\n",
    "    with open(fn) as csvfile:\n",
    "        reader = csv.reader(csvfile, delimiter=\",\")\n",
    "        next(reader)\n",
    "        for row in reader:\n",
    "            subreddit, title, text = row\n",
    "            fout.write(tokenize_str(text)+\"\\n\")\n",
    "    fout.close()\n",
    "    print(\"Save reddit corpus to {}\".format(save_fn))\n",
    "\n",
    "def read_corpus_vocab(fn):\n",
    "    cnt = Counter()\n",
    "    with open(fn, \"r\") as fin:\n",
    "        for line in fin:\n",
    "            if line.strip() == \"\":\n",
    "                continue\n",
    "            tok_line = tokenize_str(line)\n",
    "            seq = tok_line.split()\n",
    "            for word in seq:\n",
    "                cnt[word] += 1\n",
    "    print(\"fn: {}, vocab size: {}\".format(fn, len(cnt)))\n",
    "    return cnt    \n"
   ]
  },
  {
   "cell_type": "code",
   "execution_count": 6,
   "metadata": {},
   "outputs": [
    {
     "name": "stdout",
     "output_type": "stream",
     "text": [
      "Save reddit corpus to reddit_corpus.txt\n"
     ]
    }
   ],
   "source": [
    "proc_reddit_corpus()"
   ]
  },
  {
   "cell_type": "code",
   "execution_count": 41,
   "metadata": {},
   "outputs": [],
   "source": [
    "import re\n",
    "import csv"
   ]
  },
  {
   "cell_type": "code",
   "execution_count": 17,
   "metadata": {},
   "outputs": [
    {
     "name": "stdout",
     "output_type": "stream",
     "text": [
      "String:  remove#!punctual\n",
      "Without punctuation string:  removepunctual\n"
     ]
    }
   ],
   "source": [
    "py_str = \"nltk@%,^\\\"remove#!punctual\\\"tion\"\n",
    "py_str = re.findall(r'\"(.*?)\"', py_str)[0]\n",
    "py_opstr = re.sub(r'[\\W]','',py_str)\n",
    "print ('String: ', py_str)\n",
    "print ('Without punctuation string: ', py_opstr)"
   ]
  },
  {
   "cell_type": "code",
   "execution_count": 35,
   "metadata": {},
   "outputs": [],
   "source": [
    "def preprocess_pattern(corpus):\n",
    "    # corpus = re.findall(r'\"(.*?)\"', corpus) # only consider the text inside quotation\n",
    "    # corpus = re.sub(r'')\n",
    "    corpus = re.sub(r\"DarkNetMarkets\", 'deleted', corpus)\n",
    "    corpus = re.sub(r'[\\W]', ' ', corpus[0]) # remove punctuation\n",
    "    \n",
    "    return corpus"
   ]
  },
  {
   "cell_type": "code",
   "execution_count": 53,
   "metadata": {},
   "outputs": [
    {
     "name": "stdout",
     "output_type": "stream",
     "text": [
      "['DarkNetMarkets', 'Vendor Review - b00mtown - 100x 100ug LSD Blotter Tabs', '|||\\n--:|:--\\n|| __Details__\\n_Vendor:_                |[`b00mtown`]\\n_Market:_                |[`Hansa`]\\n_Product:_               |[`100x 100ug LSD`]\\n_Product cost:_                |[`$155`]\\n_Shipping:_                |[`$0`]\\n_Shipped from:_       |[`USA`]\\n_Shipped to:_           |[`USA`]\\n_Required FE:_          |[`No`]\\n_Vacuum Sealed:_       |[`No`]\\n_Decoy:_                  |[`Yes`]\\n_Handwriting:_          |[`No`]\\n||__Rating__\\n_Communication:_    |[`10`] / 10\\n_Stealth:_               |[`10`] / 10\\n_Shipping time:_      |[`10`] / 10\\n_Price value:_             |[`10`] / 10\\n_Aesthetics:_           |[`10`] / 10\\n_Weight:_               |[`10`] / 10\\n_Quality:_               |[`10`] / 10\\n_Transaction:_         |[`10`] / 10\\n_Vendor:_               |[`10`] / 10\\n_Drug:_                  |[`10`] / 10\\n|\\n|\\n|\\n| _TOTAL SCORE:_ | __[`100`] / 100__\\n\\nOverall a great vendor will be ordering from him again. Replied to all messages and leaves me with no complaints\\n\\nPic - https://imgur.com/a/iWxpv']\n"
     ]
    }
   ],
   "source": [
    "with open ('data/reddit.csv') as raw:\n",
    "    d = csv.reader(raw, delimiter=\",\")\n",
    "    d_sample = [sample for sample in d]\n",
    "    print(d_sample[6])\n",
    "\n",
    "    # d_s_token = []\n",
    "    # # for d in d_sample:\n",
    "    # flag = '\\\"'\n",
    "    # if flag in d_sample:\n",
    "    #     try:\n",
    "    #         after = preprocess_pattern(d_sample)\n",
    "    #         d_s_token.append(after)\n",
    "    #     except IndexError:\n",
    "    #         print(d_sample)\n",
    "        \n",
    "    # else:\n",
    "    #     d_s_token.append('removed')\n",
    "    \n",
    "        \n",
    "        \n",
    "    # print(d_s_token)"
   ]
  },
  {
   "cell_type": "code",
   "execution_count": null,
   "metadata": {},
   "outputs": [],
   "source": []
  }
 ],
 "metadata": {
  "kernelspec": {
   "display_name": "fyp-dev",
   "language": "python",
   "name": "python3"
  },
  "language_info": {
   "codemirror_mode": {
    "name": "ipython",
    "version": 3
   },
   "file_extension": ".py",
   "mimetype": "text/x-python",
   "name": "python",
   "nbconvert_exporter": "python",
   "pygments_lexer": "ipython3",
   "version": "3.7.9 (v3.7.9:13c94747c7, Aug 15 2020, 01:31:08) \n[Clang 6.0 (clang-600.0.57)]"
  },
  "orig_nbformat": 4,
  "vscode": {
   "interpreter": {
    "hash": "cf42840c5253c66635351366f71543fb19083080d676bbd340381a7827cbdf14"
   }
  }
 },
 "nbformat": 4,
 "nbformat_minor": 2
}
