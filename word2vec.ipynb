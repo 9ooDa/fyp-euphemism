{
 "cells": [
  {
   "cell_type": "code",
   "execution_count": 109,
   "metadata": {},
   "outputs": [],
   "source": [
    "import numpy as np\n",
    "import pandas as pd\n",
    "import re\n",
    "from collections import defaultdict\n",
    "\n",
    "from gensim.models import KeyedVectors, Word2Vec, FastText\n",
    "from gensim.models.word2vec import LineSentence\n",
    "from sklearn.metrics.pairwise import cosine_similarity"
   ]
  },
  {
   "cell_type": "code",
   "execution_count": 110,
   "metadata": {},
   "outputs": [],
   "source": [
    "def read_files():\n",
    "    answer = defaultdict(list)\n",
    "\n",
    "    with open('data/euphemism_answer_drug.txt') as f:\n",
    "        lines = f.readlines()\n",
    "        pattern = '[;\\\\n]+'\n",
    "\n",
    "        for l in lines:\n",
    "            l = l.lower()\n",
    "            val = l.split(':')[0]\n",
    "            keys = l.split(':')[1]\n",
    "            keys = re.split(pattern, keys)\n",
    "            \n",
    "            for k in keys:\n",
    "                if len(k) == 0:\n",
    "                    pass\n",
    "                else:\n",
    "                    answer[k.strip()].append(val)\n",
    "\n",
    "    drug_euphemism = sorted(list(set([x[0] for x in answer.items()])))\n",
    "    drug_formal = sorted(list(set([y for x in answer.items() for y in x[1]])))\n",
    "\n",
    "\n",
    "    target = {}\n",
    "    count = 0\n",
    "\n",
    "    with open('data/target_keywords_drug.txt') as f:\n",
    "        lines = f.readlines()\n",
    "        for l in lines:\n",
    "            l = l.strip().split('\\t')\n",
    "            for i in l:\n",
    "                target[i.strip()] = count\n",
    "            count += 1\n",
    "\n",
    "    euph = []\n",
    "\n",
    "    with open('data/AutoPhrase_multi-words.txt') as f:\n",
    "        lines = f.readlines()\n",
    "        for l in lines:\n",
    "            l = l.strip().split('\\t')\n",
    "            for i in range(len(l)):\n",
    "                if i%2 != 0:\n",
    "                    euph.append(l[i])\n",
    "                else:\n",
    "                    pass\n",
    "\n",
    "    return answer, drug_formal, target, euph"
   ]
  },
  {
   "cell_type": "code",
   "execution_count": 125,
   "metadata": {},
   "outputs": [],
   "source": [
    "def train_w2v_embed(target, file):\n",
    "    if target is False:\n",
    "        sentences = LineSentence(file)\n",
    "        \n",
    "        model = Word2Vec(sentences, window=6, vector_size=100, min_count=5, alpha=0.0001, workers=30)\n",
    "\n",
    "    else:\n",
    "        sentences = list(file.keys())\n",
    "        print(sentences)\n",
    "        model = Word2Vec(sentences, window=6, vector_size=100, min_count=1, alpha=0.0001, workers=30)\n",
    "    \n",
    "    # for s in sentences:\n",
    "    #     print(s)\n",
    "\n",
    "    # model.wv.save_word2vec_format(embedding_file, binary=False)\n",
    "\n",
    "    return model"
   ]
  },
  {
   "cell_type": "code",
   "execution_count": 126,
   "metadata": {},
   "outputs": [
    {
     "name": "stdout",
     "output_type": "stream",
     "text": [
      "['acetaminophen and oxycodone combination', 'percocet', 'alprazolam', 'xanax', 'amphetamine', 'amphetamine and dextroamphetamine combination', 'adderall', 'buprenorphine and naloxone combination', 'suboxone', 'clonazepam', 'klonopin', 'cocaine', 'crack cocaine', 'ecstasy', 'mdma', 'molly', 'fentanyl', 'flunitrazepam', 'rohypnol', 'gamma-hydroxybutyric acid', 'ghb', 'heroin', 'hydrocodone', 'norco', 'vicodin', 'lorcet', 'hydromorphone', 'dilaudid', 'ketamine', 'ketalar', 'khat', 'lysergic acid diethylamide', 'lsd', 'marijuana', 'marijuana concentrates', 'hash oil', 'mescaline', 'peyote', 'methamphetamine', 'methylphenidate', 'ritalin', 'concerta', 'daytrana', 'morphine', 'opium', 'oxaydo', 'oxycodone', 'oxycontin', 'roxicodone', 'phencyclidine', 'pcp', 'promethazine', 'psilocybin mushrooms', 'synthetic cannabinoids', 'synthetic cathinones', 'steroids', 'u-47700']\n",
      "['a', 'n', 'o', 'e', 'i', 'c', 't', 'm', 'r', 'd', 'h', 'l', 'p', 'y', ' ', 's', 'x', 'u', 'b', 'k', 'z', 'g', '7', 'f', '-', 'j', '0', 'v', '4']\n"
     ]
    }
   ],
   "source": [
    "def w2v_detection():\n",
    "    answer, drug_formal, target_dict, euph = read_files()\n",
    "\n",
    "    c_file = 'data/input.txt'\n",
    "    # t_file = 'data/target_keywords_drug.txt'\n",
    "    e_file = 'enwiki-20221020-pages-articles-multistream-index.txt'\n",
    "     \n",
    "    # w2v_model = train_w2v_embed(target=False, c_file)\n",
    "    target_embedding = train_w2v_embed(True, target_dict)\n",
    "\n",
    "    words = list(target_embedding.wv.index_to_key)\n",
    "    print(words)\n",
    "\n",
    "w2v_detection() \n",
    "        "
   ]
  },
  {
   "cell_type": "code",
   "execution_count": 121,
   "metadata": {},
   "outputs": [],
   "source": [
    "# 인풋파일로 임베딩 찾아서 타겟 임베딩이랑 비교하고 (window=2~5로 하면 phrase로 됨)\n",
    "# autophrase랑 비교해서 순위매기기"
   ]
  },
  {
   "cell_type": "code",
   "execution_count": null,
   "metadata": {},
   "outputs": [],
   "source": []
  }
 ],
 "metadata": {
  "kernelspec": {
   "display_name": "fyp-dev",
   "language": "python",
   "name": "python3"
  },
  "language_info": {
   "codemirror_mode": {
    "name": "ipython",
    "version": 3
   },
   "file_extension": ".py",
   "mimetype": "text/x-python",
   "name": "python",
   "nbconvert_exporter": "python",
   "pygments_lexer": "ipython3",
   "version": "3.7.9"
  },
  "orig_nbformat": 4,
  "vscode": {
   "interpreter": {
    "hash": "cf42840c5253c66635351366f71543fb19083080d676bbd340381a7827cbdf14"
   }
  }
 },
 "nbformat": 4,
 "nbformat_minor": 2
}
